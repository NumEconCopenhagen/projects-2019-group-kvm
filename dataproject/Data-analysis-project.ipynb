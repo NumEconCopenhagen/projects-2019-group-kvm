{
 "cells": [
  {
   "cell_type": "markdown",
   "metadata": {},
   "source": [
    "# Data Project: The effect of GDP on Unemployment"
   ]
  },
  {
   "cell_type": "markdown",
   "metadata": {},
   "source": [
    "In this project we are looking at the effect of GDP on unemployment. We are inspired by Okuns law which states that an increase in (real) GDP by 3 % leads to a fall in unemployment by 1 %. We will look at the general tendency of an increase in GDP leading to a increase in unemployment by looking on time-series data for USA from the World Bank covering the period 1992-2017. \n",
    "\n"
   ]
  },
  {
   "cell_type": "markdown",
   "metadata": {},
   "source": [
    " ## 1.1 Importing and processing GDP data"
   ]
  },
  {
   "cell_type": "code",
   "execution_count": null,
   "metadata": {},
   "outputs": [],
   "source": [
    "#Import packages:"
   ]
  },
  {
   "cell_type": "code",
   "execution_count": 1,
   "metadata": {},
   "outputs": [],
   "source": [
    "from pandas_datareader import wb\n",
    "import pandas as pd\n",
    "import numpy as np\n",
    "import matplotlib.pyplot as plt\n",
    "from matplotlib_venn import venn2"
   ]
  },
  {
   "cell_type": "code",
   "execution_count": null,
   "metadata": {},
   "outputs": [],
   "source": [
    "#Import GDP data from World bank:"
   ]
  },
  {
   "cell_type": "code",
   "execution_count": 2,
   "metadata": {},
   "outputs": [
    {
     "data": {
      "text/html": [
       "<div>\n",
       "<style scoped>\n",
       "    .dataframe tbody tr th:only-of-type {\n",
       "        vertical-align: middle;\n",
       "    }\n",
       "\n",
       "    .dataframe tbody tr th {\n",
       "        vertical-align: top;\n",
       "    }\n",
       "\n",
       "    .dataframe thead th {\n",
       "        text-align: right;\n",
       "    }\n",
       "</style>\n",
       "<table border=\"1\" class=\"dataframe\">\n",
       "  <thead>\n",
       "    <tr style=\"text-align: right;\">\n",
       "      <th></th>\n",
       "      <th>country</th>\n",
       "      <th>year</th>\n",
       "      <th>gdp</th>\n",
       "    </tr>\n",
       "  </thead>\n",
       "  <tbody>\n",
       "    <tr>\n",
       "      <th>0</th>\n",
       "      <td>United States</td>\n",
       "      <td>2018</td>\n",
       "      <td>NaN</td>\n",
       "    </tr>\n",
       "    <tr>\n",
       "      <th>1</th>\n",
       "      <td>United States</td>\n",
       "      <td>2017</td>\n",
       "      <td>53128.539700</td>\n",
       "    </tr>\n",
       "    <tr>\n",
       "      <th>2</th>\n",
       "      <td>United States</td>\n",
       "      <td>2016</td>\n",
       "      <td>52319.163351</td>\n",
       "    </tr>\n",
       "    <tr>\n",
       "      <th>3</th>\n",
       "      <td>United States</td>\n",
       "      <td>2015</td>\n",
       "      <td>51933.404806</td>\n",
       "    </tr>\n",
       "    <tr>\n",
       "      <th>4</th>\n",
       "      <td>United States</td>\n",
       "      <td>2014</td>\n",
       "      <td>50871.674083</td>\n",
       "    </tr>\n",
       "    <tr>\n",
       "      <th>5</th>\n",
       "      <td>United States</td>\n",
       "      <td>2013</td>\n",
       "      <td>49971.951357</td>\n",
       "    </tr>\n",
       "    <tr>\n",
       "      <th>6</th>\n",
       "      <td>United States</td>\n",
       "      <td>2012</td>\n",
       "      <td>49498.390916</td>\n",
       "    </tr>\n",
       "    <tr>\n",
       "      <th>7</th>\n",
       "      <td>United States</td>\n",
       "      <td>2011</td>\n",
       "      <td>48786.454976</td>\n",
       "    </tr>\n",
       "    <tr>\n",
       "      <th>8</th>\n",
       "      <td>United States</td>\n",
       "      <td>2010</td>\n",
       "      <td>48375.406946</td>\n",
       "    </tr>\n",
       "    <tr>\n",
       "      <th>9</th>\n",
       "      <td>United States</td>\n",
       "      <td>2009</td>\n",
       "      <td>47575.608563</td>\n",
       "    </tr>\n",
       "  </tbody>\n",
       "</table>\n",
       "</div>"
      ],
      "text/plain": [
       "         country  year           gdp\n",
       "0  United States  2018           NaN\n",
       "1  United States  2017  53128.539700\n",
       "2  United States  2016  52319.163351\n",
       "3  United States  2015  51933.404806\n",
       "4  United States  2014  50871.674083\n",
       "5  United States  2013  49971.951357\n",
       "6  United States  2012  49498.390916\n",
       "7  United States  2011  48786.454976\n",
       "8  United States  2010  48375.406946\n",
       "9  United States  2009  47575.608563"
      ]
     },
     "execution_count": 2,
     "metadata": {},
     "output_type": "execute_result"
    }
   ],
   "source": [
    "gdps_wb = wb.download(indicator='NY.GDP.PCAP.KD', country=['US'], start=1990, end=2018)\n",
    "gdps_wb = gdps_wb.rename(columns = {'NY.GDP.PCAP.KD':'gdp'})\n",
    "gdps_wb = gdps_wb.reset_index()\n",
    "gdps_wb.year = gdps_wb.year.astype(int)\n",
    "gdps_wb.head(10)"
   ]
  },
  {
   "cell_type": "markdown",
   "metadata": {},
   "source": [
    "One can see a positive development in GDP in recent years."
   ]
  },
  {
   "cell_type": "code",
   "execution_count": null,
   "metadata": {},
   "outputs": [],
   "source": [
    "#Download GDP growth data"
   ]
  },
  {
   "cell_type": "code",
   "execution_count": 3,
   "metadata": {},
   "outputs": [
    {
     "data": {
      "text/html": [
       "<div>\n",
       "<style scoped>\n",
       "    .dataframe tbody tr th:only-of-type {\n",
       "        vertical-align: middle;\n",
       "    }\n",
       "\n",
       "    .dataframe tbody tr th {\n",
       "        vertical-align: top;\n",
       "    }\n",
       "\n",
       "    .dataframe thead th {\n",
       "        text-align: right;\n",
       "    }\n",
       "</style>\n",
       "<table border=\"1\" class=\"dataframe\">\n",
       "  <thead>\n",
       "    <tr style=\"text-align: right;\">\n",
       "      <th></th>\n",
       "      <th>country</th>\n",
       "      <th>year</th>\n",
       "      <th>gdp_growth</th>\n",
       "    </tr>\n",
       "  </thead>\n",
       "  <tbody>\n",
       "    <tr>\n",
       "      <th>0</th>\n",
       "      <td>United States</td>\n",
       "      <td>2018</td>\n",
       "      <td>NaN</td>\n",
       "    </tr>\n",
       "    <tr>\n",
       "      <th>1</th>\n",
       "      <td>United States</td>\n",
       "      <td>2017</td>\n",
       "      <td>2.273339</td>\n",
       "    </tr>\n",
       "    <tr>\n",
       "      <th>2</th>\n",
       "      <td>United States</td>\n",
       "      <td>2016</td>\n",
       "      <td>1.485279</td>\n",
       "    </tr>\n",
       "    <tr>\n",
       "      <th>3</th>\n",
       "      <td>United States</td>\n",
       "      <td>2015</td>\n",
       "      <td>2.861587</td>\n",
       "    </tr>\n",
       "    <tr>\n",
       "      <th>4</th>\n",
       "      <td>United States</td>\n",
       "      <td>2014</td>\n",
       "      <td>2.569194</td>\n",
       "    </tr>\n",
       "    <tr>\n",
       "      <th>5</th>\n",
       "      <td>United States</td>\n",
       "      <td>2013</td>\n",
       "      <td>1.677332</td>\n",
       "    </tr>\n",
       "    <tr>\n",
       "      <th>6</th>\n",
       "      <td>United States</td>\n",
       "      <td>2012</td>\n",
       "      <td>2.224031</td>\n",
       "    </tr>\n",
       "    <tr>\n",
       "      <th>7</th>\n",
       "      <td>United States</td>\n",
       "      <td>2011</td>\n",
       "      <td>1.601455</td>\n",
       "    </tr>\n",
       "    <tr>\n",
       "      <th>8</th>\n",
       "      <td>United States</td>\n",
       "      <td>2010</td>\n",
       "      <td>2.531921</td>\n",
       "    </tr>\n",
       "    <tr>\n",
       "      <th>9</th>\n",
       "      <td>United States</td>\n",
       "      <td>2009</td>\n",
       "      <td>-2.775530</td>\n",
       "    </tr>\n",
       "  </tbody>\n",
       "</table>\n",
       "</div>"
      ],
      "text/plain": [
       "         country  year  gdp_growth\n",
       "0  United States  2018         NaN\n",
       "1  United States  2017    2.273339\n",
       "2  United States  2016    1.485279\n",
       "3  United States  2015    2.861587\n",
       "4  United States  2014    2.569194\n",
       "5  United States  2013    1.677332\n",
       "6  United States  2012    2.224031\n",
       "7  United States  2011    1.601455\n",
       "8  United States  2010    2.531921\n",
       "9  United States  2009   -2.775530"
      ]
     },
     "execution_count": 3,
     "metadata": {},
     "output_type": "execute_result"
    }
   ],
   "source": [
    "gdpgrowth_wb = wb.download(indicator='NY.GDP.MKTP.KD.ZG', country=['US'], start=1990, end=2018)\n",
    "gdpgrowth_wb = gdpgrowth_wb.rename(columns = {'NY.GDP.MKTP.KD.ZG':'gdp_growth'})\n",
    "gdpgrowth_wb = gdpgrowth_wb.reset_index()\n",
    "gdpgrowth_wb.year = gdpgrowth_wb.year.astype(int)\n",
    "gdpgrowth_wb.head(10)"
   ]
  },
  {
   "cell_type": "markdown",
   "metadata": {},
   "source": [
    "This table shows that after 2009 there has been a positive growth-rate in GDP. This comes after a negative groth during the Financial Crisis."
   ]
  },
  {
   "cell_type": "markdown",
   "metadata": {},
   "source": [
    " ## 1.2 Importing and processing unemployment data"
   ]
  },
  {
   "cell_type": "code",
   "execution_count": null,
   "metadata": {},
   "outputs": [],
   "source": [
    "#Import unemployment data from excel file:"
   ]
  },
  {
   "cell_type": "code",
   "execution_count": 4,
   "metadata": {},
   "outputs": [
    {
     "name": "stdout",
     "output_type": "stream",
     "text": [
      "    year  Unemployment\n",
      "0   1992  6.700001e-01\n",
      "1   1993 -5.799999e-01\n",
      "2   1994 -8.200002e-01\n",
      "3   1995 -5.000000e-01\n",
      "4   1996 -1.999998e-01\n",
      "5   1997 -4.600000e-01\n",
      "6   1998 -4.299998e-01\n",
      "7   1999 -2.900004e-01\n",
      "8   2000 -2.299998e-01\n",
      "9   2001  7.400000e-01\n",
      "10  2002  1.050000e+00\n",
      "11  2003  2.099996e-01\n",
      "12  2004 -4.599996e-01\n",
      "13  2005 -4.500003e-01\n",
      "14  2006 -4.600000e-01\n",
      "15  2007  1.000000e-07\n",
      "16  2008  1.160000e+00\n",
      "17  2009  3.470000e+00\n",
      "18  2010  3.800001e-01\n",
      "19  2011 -6.800003e-01\n",
      "20  2012 -8.800001e-01\n",
      "21  2013 -6.899996e-01\n",
      "22  2014 -1.210000e+00\n",
      "23  2015 -8.899999e-01\n",
      "24  2016 -4.100003e-01\n",
      "25  2017 -5.099998e-01\n",
      "26  2018 -3.240004e-01\n"
     ]
    }
   ],
   "source": [
    "unempl = pd.read_excel('Data.xlsx')\n",
    "print(unempl)"
   ]
  },
  {
   "cell_type": "markdown",
   "metadata": {},
   "source": [
    "One can see at period from 2007-2010 with a positive change in uemployment rate which coincides with the aftermath of the financial crisis. There is also a positive development from 2001-2003 where the developed countries also experienced a recession. After 2010 it decreases."
   ]
  },
  {
   "cell_type": "code",
   "execution_count": null,
   "metadata": {},
   "outputs": [],
   "source": [
    "#Change type:"
   ]
  },
  {
   "cell_type": "code",
   "execution_count": 5,
   "metadata": {},
   "outputs": [],
   "source": [
    "gdpgrowth_wb.year = gdpgrowth_wb.year.astype(int)\n",
    "gdps_wb.year = gdps_wb.year.astype(int)\n",
    "unempl.year = unempl.year.astype(int)"
   ]
  },
  {
   "cell_type": "markdown",
   "metadata": {},
   "source": [
    "## 1.3 Combining the datasets"
   ]
  },
  {
   "cell_type": "code",
   "execution_count": null,
   "metadata": {},
   "outputs": [],
   "source": [
    "#Merge data:"
   ]
  },
  {
   "cell_type": "code",
   "execution_count": 6,
   "metadata": {},
   "outputs": [
    {
     "name": "stdout",
     "output_type": "stream",
     "text": [
      "(27, 2)\n",
      "(29, 3)\n",
      "(29, 4)\n"
     ]
    },
    {
     "data": {
      "text/html": [
       "<div>\n",
       "<style scoped>\n",
       "    .dataframe tbody tr th:only-of-type {\n",
       "        vertical-align: middle;\n",
       "    }\n",
       "\n",
       "    .dataframe tbody tr th {\n",
       "        vertical-align: top;\n",
       "    }\n",
       "\n",
       "    .dataframe thead th {\n",
       "        text-align: right;\n",
       "    }\n",
       "</style>\n",
       "<table border=\"1\" class=\"dataframe\">\n",
       "  <thead>\n",
       "    <tr style=\"text-align: right;\">\n",
       "      <th></th>\n",
       "      <th>year</th>\n",
       "      <th>Unemployment</th>\n",
       "      <th>country</th>\n",
       "      <th>gdp_growth</th>\n",
       "    </tr>\n",
       "  </thead>\n",
       "  <tbody>\n",
       "    <tr>\n",
       "      <th>12</th>\n",
       "      <td>2004</td>\n",
       "      <td>-0.46</td>\n",
       "      <td>United States</td>\n",
       "      <td>3.785743</td>\n",
       "    </tr>\n",
       "    <tr>\n",
       "      <th>25</th>\n",
       "      <td>2017</td>\n",
       "      <td>-0.51</td>\n",
       "      <td>United States</td>\n",
       "      <td>2.273339</td>\n",
       "    </tr>\n",
       "    <tr>\n",
       "      <th>20</th>\n",
       "      <td>2012</td>\n",
       "      <td>-0.88</td>\n",
       "      <td>United States</td>\n",
       "      <td>2.224031</td>\n",
       "    </tr>\n",
       "    <tr>\n",
       "      <th>0</th>\n",
       "      <td>1992</td>\n",
       "      <td>0.67</td>\n",
       "      <td>United States</td>\n",
       "      <td>3.555396</td>\n",
       "    </tr>\n",
       "    <tr>\n",
       "      <th>5</th>\n",
       "      <td>1997</td>\n",
       "      <td>-0.46</td>\n",
       "      <td>United States</td>\n",
       "      <td>4.487026</td>\n",
       "    </tr>\n",
       "    <tr>\n",
       "      <th>18</th>\n",
       "      <td>2010</td>\n",
       "      <td>0.38</td>\n",
       "      <td>United States</td>\n",
       "      <td>2.531921</td>\n",
       "    </tr>\n",
       "    <tr>\n",
       "      <th>13</th>\n",
       "      <td>2005</td>\n",
       "      <td>-0.45</td>\n",
       "      <td>United States</td>\n",
       "      <td>3.345216</td>\n",
       "    </tr>\n",
       "    <tr>\n",
       "      <th>22</th>\n",
       "      <td>2014</td>\n",
       "      <td>-1.21</td>\n",
       "      <td>United States</td>\n",
       "      <td>2.569194</td>\n",
       "    </tr>\n",
       "    <tr>\n",
       "      <th>1</th>\n",
       "      <td>1993</td>\n",
       "      <td>-0.58</td>\n",
       "      <td>United States</td>\n",
       "      <td>2.745857</td>\n",
       "    </tr>\n",
       "    <tr>\n",
       "      <th>6</th>\n",
       "      <td>1998</td>\n",
       "      <td>-0.43</td>\n",
       "      <td>United States</td>\n",
       "      <td>4.449911</td>\n",
       "    </tr>\n",
       "  </tbody>\n",
       "</table>\n",
       "</div>"
      ],
      "text/plain": [
       "    year  Unemployment        country  gdp_growth\n",
       "12  2004         -0.46  United States    3.785743\n",
       "25  2017         -0.51  United States    2.273339\n",
       "20  2012         -0.88  United States    2.224031\n",
       "0   1992          0.67  United States    3.555396\n",
       "5   1997         -0.46  United States    4.487026\n",
       "18  2010          0.38  United States    2.531921\n",
       "13  2005         -0.45  United States    3.345216\n",
       "22  2014         -1.21  United States    2.569194\n",
       "1   1993         -0.58  United States    2.745857\n",
       "6   1998         -0.43  United States    4.449911"
      ]
     },
     "execution_count": 6,
     "metadata": {},
     "output_type": "execute_result"
    }
   ],
   "source": [
    "mergeddata = pd.merge(unempl, gdpgrowth_wb, how='outer', on = ['year'])\n",
    "print(unempl.shape)\n",
    "print(gdpgrowth_wb.shape)\n",
    "print(mergeddata.shape)\n",
    "mergeddata.sample(10)"
   ]
  },
  {
   "cell_type": "code",
   "execution_count": null,
   "metadata": {},
   "outputs": [],
   "source": [
    "#Sort data:"
   ]
  },
  {
   "cell_type": "code",
   "execution_count": 7,
   "metadata": {},
   "outputs": [
    {
     "data": {
      "text/html": [
       "<div>\n",
       "<style scoped>\n",
       "    .dataframe tbody tr th:only-of-type {\n",
       "        vertical-align: middle;\n",
       "    }\n",
       "\n",
       "    .dataframe tbody tr th {\n",
       "        vertical-align: top;\n",
       "    }\n",
       "\n",
       "    .dataframe thead th {\n",
       "        text-align: right;\n",
       "    }\n",
       "</style>\n",
       "<table border=\"1\" class=\"dataframe\">\n",
       "  <thead>\n",
       "    <tr style=\"text-align: right;\">\n",
       "      <th></th>\n",
       "      <th>year</th>\n",
       "      <th>Unemployment</th>\n",
       "      <th>country</th>\n",
       "      <th>gdp_growth</th>\n",
       "    </tr>\n",
       "  </thead>\n",
       "  <tbody>\n",
       "    <tr>\n",
       "      <th>0</th>\n",
       "      <td>1992</td>\n",
       "      <td>6.700001e-01</td>\n",
       "      <td>United States</td>\n",
       "      <td>3.555396</td>\n",
       "    </tr>\n",
       "    <tr>\n",
       "      <th>1</th>\n",
       "      <td>1993</td>\n",
       "      <td>-5.799999e-01</td>\n",
       "      <td>United States</td>\n",
       "      <td>2.745857</td>\n",
       "    </tr>\n",
       "    <tr>\n",
       "      <th>2</th>\n",
       "      <td>1994</td>\n",
       "      <td>-8.200002e-01</td>\n",
       "      <td>United States</td>\n",
       "      <td>4.037643</td>\n",
       "    </tr>\n",
       "    <tr>\n",
       "      <th>3</th>\n",
       "      <td>1995</td>\n",
       "      <td>-5.000000e-01</td>\n",
       "      <td>United States</td>\n",
       "      <td>2.718976</td>\n",
       "    </tr>\n",
       "    <tr>\n",
       "      <th>4</th>\n",
       "      <td>1996</td>\n",
       "      <td>-1.999998e-01</td>\n",
       "      <td>United States</td>\n",
       "      <td>3.795881</td>\n",
       "    </tr>\n",
       "    <tr>\n",
       "      <th>5</th>\n",
       "      <td>1997</td>\n",
       "      <td>-4.600000e-01</td>\n",
       "      <td>United States</td>\n",
       "      <td>4.487026</td>\n",
       "    </tr>\n",
       "    <tr>\n",
       "      <th>6</th>\n",
       "      <td>1998</td>\n",
       "      <td>-4.299998e-01</td>\n",
       "      <td>United States</td>\n",
       "      <td>4.449911</td>\n",
       "    </tr>\n",
       "    <tr>\n",
       "      <th>7</th>\n",
       "      <td>1999</td>\n",
       "      <td>-2.900004e-01</td>\n",
       "      <td>United States</td>\n",
       "      <td>4.685200</td>\n",
       "    </tr>\n",
       "    <tr>\n",
       "      <th>8</th>\n",
       "      <td>2000</td>\n",
       "      <td>-2.299998e-01</td>\n",
       "      <td>United States</td>\n",
       "      <td>4.092176</td>\n",
       "    </tr>\n",
       "    <tr>\n",
       "      <th>9</th>\n",
       "      <td>2001</td>\n",
       "      <td>7.400000e-01</td>\n",
       "      <td>United States</td>\n",
       "      <td>0.975982</td>\n",
       "    </tr>\n",
       "    <tr>\n",
       "      <th>10</th>\n",
       "      <td>2002</td>\n",
       "      <td>1.050000e+00</td>\n",
       "      <td>United States</td>\n",
       "      <td>1.786128</td>\n",
       "    </tr>\n",
       "    <tr>\n",
       "      <th>11</th>\n",
       "      <td>2003</td>\n",
       "      <td>2.099996e-01</td>\n",
       "      <td>United States</td>\n",
       "      <td>2.806776</td>\n",
       "    </tr>\n",
       "    <tr>\n",
       "      <th>12</th>\n",
       "      <td>2004</td>\n",
       "      <td>-4.599996e-01</td>\n",
       "      <td>United States</td>\n",
       "      <td>3.785743</td>\n",
       "    </tr>\n",
       "    <tr>\n",
       "      <th>13</th>\n",
       "      <td>2005</td>\n",
       "      <td>-4.500003e-01</td>\n",
       "      <td>United States</td>\n",
       "      <td>3.345216</td>\n",
       "    </tr>\n",
       "    <tr>\n",
       "      <th>14</th>\n",
       "      <td>2006</td>\n",
       "      <td>-4.600000e-01</td>\n",
       "      <td>United States</td>\n",
       "      <td>2.666626</td>\n",
       "    </tr>\n",
       "    <tr>\n",
       "      <th>15</th>\n",
       "      <td>2007</td>\n",
       "      <td>1.000000e-07</td>\n",
       "      <td>United States</td>\n",
       "      <td>1.778570</td>\n",
       "    </tr>\n",
       "    <tr>\n",
       "      <th>16</th>\n",
       "      <td>2008</td>\n",
       "      <td>1.160000e+00</td>\n",
       "      <td>United States</td>\n",
       "      <td>-0.291621</td>\n",
       "    </tr>\n",
       "    <tr>\n",
       "      <th>17</th>\n",
       "      <td>2009</td>\n",
       "      <td>3.470000e+00</td>\n",
       "      <td>United States</td>\n",
       "      <td>-2.775530</td>\n",
       "    </tr>\n",
       "    <tr>\n",
       "      <th>18</th>\n",
       "      <td>2010</td>\n",
       "      <td>3.800001e-01</td>\n",
       "      <td>United States</td>\n",
       "      <td>2.531921</td>\n",
       "    </tr>\n",
       "    <tr>\n",
       "      <th>19</th>\n",
       "      <td>2011</td>\n",
       "      <td>-6.800003e-01</td>\n",
       "      <td>United States</td>\n",
       "      <td>1.601455</td>\n",
       "    </tr>\n",
       "    <tr>\n",
       "      <th>20</th>\n",
       "      <td>2012</td>\n",
       "      <td>-8.800001e-01</td>\n",
       "      <td>United States</td>\n",
       "      <td>2.224031</td>\n",
       "    </tr>\n",
       "    <tr>\n",
       "      <th>21</th>\n",
       "      <td>2013</td>\n",
       "      <td>-6.899996e-01</td>\n",
       "      <td>United States</td>\n",
       "      <td>1.677332</td>\n",
       "    </tr>\n",
       "    <tr>\n",
       "      <th>22</th>\n",
       "      <td>2014</td>\n",
       "      <td>-1.210000e+00</td>\n",
       "      <td>United States</td>\n",
       "      <td>2.569194</td>\n",
       "    </tr>\n",
       "    <tr>\n",
       "      <th>23</th>\n",
       "      <td>2015</td>\n",
       "      <td>-8.899999e-01</td>\n",
       "      <td>United States</td>\n",
       "      <td>2.861587</td>\n",
       "    </tr>\n",
       "    <tr>\n",
       "      <th>24</th>\n",
       "      <td>2016</td>\n",
       "      <td>-4.100003e-01</td>\n",
       "      <td>United States</td>\n",
       "      <td>1.485279</td>\n",
       "    </tr>\n",
       "    <tr>\n",
       "      <th>25</th>\n",
       "      <td>2017</td>\n",
       "      <td>-5.099998e-01</td>\n",
       "      <td>United States</td>\n",
       "      <td>2.273339</td>\n",
       "    </tr>\n",
       "    <tr>\n",
       "      <th>26</th>\n",
       "      <td>2018</td>\n",
       "      <td>-3.240004e-01</td>\n",
       "      <td>United States</td>\n",
       "      <td>NaN</td>\n",
       "    </tr>\n",
       "    <tr>\n",
       "      <th>27</th>\n",
       "      <td>1991</td>\n",
       "      <td>NaN</td>\n",
       "      <td>United States</td>\n",
       "      <td>-0.074085</td>\n",
       "    </tr>\n",
       "    <tr>\n",
       "      <th>28</th>\n",
       "      <td>1990</td>\n",
       "      <td>NaN</td>\n",
       "      <td>United States</td>\n",
       "      <td>1.919370</td>\n",
       "    </tr>\n",
       "  </tbody>\n",
       "</table>\n",
       "</div>"
      ],
      "text/plain": [
       "    year  Unemployment        country  gdp_growth\n",
       "0   1992  6.700001e-01  United States    3.555396\n",
       "1   1993 -5.799999e-01  United States    2.745857\n",
       "2   1994 -8.200002e-01  United States    4.037643\n",
       "3   1995 -5.000000e-01  United States    2.718976\n",
       "4   1996 -1.999998e-01  United States    3.795881\n",
       "5   1997 -4.600000e-01  United States    4.487026\n",
       "6   1998 -4.299998e-01  United States    4.449911\n",
       "7   1999 -2.900004e-01  United States    4.685200\n",
       "8   2000 -2.299998e-01  United States    4.092176\n",
       "9   2001  7.400000e-01  United States    0.975982\n",
       "10  2002  1.050000e+00  United States    1.786128\n",
       "11  2003  2.099996e-01  United States    2.806776\n",
       "12  2004 -4.599996e-01  United States    3.785743\n",
       "13  2005 -4.500003e-01  United States    3.345216\n",
       "14  2006 -4.600000e-01  United States    2.666626\n",
       "15  2007  1.000000e-07  United States    1.778570\n",
       "16  2008  1.160000e+00  United States   -0.291621\n",
       "17  2009  3.470000e+00  United States   -2.775530\n",
       "18  2010  3.800001e-01  United States    2.531921\n",
       "19  2011 -6.800003e-01  United States    1.601455\n",
       "20  2012 -8.800001e-01  United States    2.224031\n",
       "21  2013 -6.899996e-01  United States    1.677332\n",
       "22  2014 -1.210000e+00  United States    2.569194\n",
       "23  2015 -8.899999e-01  United States    2.861587\n",
       "24  2016 -4.100003e-01  United States    1.485279\n",
       "25  2017 -5.099998e-01  United States    2.273339\n",
       "26  2018 -3.240004e-01  United States         NaN\n",
       "27  1991           NaN  United States   -0.074085\n",
       "28  1990           NaN  United States    1.919370"
      ]
     },
     "execution_count": 7,
     "metadata": {},
     "output_type": "execute_result"
    }
   ],
   "source": [
    "mergeddata.sort_index()"
   ]
  },
  {
   "cell_type": "code",
   "execution_count": null,
   "metadata": {},
   "outputs": [],
   "source": [
    "#Clean data (drop if missing data) and convert to float:"
   ]
  },
  {
   "cell_type": "code",
   "execution_count": 8,
   "metadata": {},
   "outputs": [],
   "source": [
    "mergeddata = mergeddata.dropna()"
   ]
  },
  {
   "cell_type": "markdown",
   "metadata": {},
   "source": [
    "## 2. Descriptive Statistics"
   ]
  },
  {
   "cell_type": "code",
   "execution_count": null,
   "metadata": {},
   "outputs": [],
   "source": [
    "#Statistics (Analyze data):"
   ]
  },
  {
   "cell_type": "code",
   "execution_count": 11,
   "metadata": {},
   "outputs": [
    {
     "data": {
      "text/plain": [
       "count    26.000000\n",
       "mean     -0.095000\n",
       "std       0.944344\n",
       "min      -1.210000\n",
       "25%      -0.562500\n",
       "50%      -0.440000\n",
       "75%       0.157500\n",
       "max       3.470000\n",
       "Name: Unemployment, dtype: float64"
      ]
     },
     "execution_count": 11,
     "metadata": {},
     "output_type": "execute_result"
    }
   ],
   "source": [
    "mergeddata['Unemployment'].describe()"
   ]
  },
  {
   "cell_type": "code",
   "execution_count": 12,
   "metadata": {},
   "outputs": [
    {
     "data": {
      "text/plain": [
       "count    26.000000\n",
       "mean      2.533465\n",
       "std       1.606757\n",
       "min      -2.775530\n",
       "25%       1.780460\n",
       "50%       2.692801\n",
       "75%       3.728156\n",
       "max       4.685200\n",
       "Name: gdp_growth, dtype: float64"
      ]
     },
     "execution_count": 12,
     "metadata": {},
     "output_type": "execute_result"
    }
   ],
   "source": [
    "mergeddata['gdp_growth'].describe()"
   ]
  },
  {
   "cell_type": "markdown",
   "metadata": {},
   "source": [
    "I see that mean change in the unemployment rate for the period is -0.095 so it overall drops during this period. The maximum was 3.47 in 2009 with the Financial Crisis and lowest with -1.21 in 2014. \n",
    "There also seems to be some dispersion in the data which can be seen on the standard deviation.\n",
    "\n",
    "the mean of gdp growth is 2.5 which shows a positive growth in gdp during this period. The change in gdp is between -2.8 and 4.7 pct and is positive most of the period.   "
   ]
  },
  {
   "cell_type": "code",
   "execution_count": null,
   "metadata": {},
   "outputs": [],
   "source": [
    "#Calculate correlation"
   ]
  },
  {
   "cell_type": "code",
   "execution_count": 13,
   "metadata": {},
   "outputs": [
    {
     "data": {
      "text/html": [
       "<div>\n",
       "<style scoped>\n",
       "    .dataframe tbody tr th:only-of-type {\n",
       "        vertical-align: middle;\n",
       "    }\n",
       "\n",
       "    .dataframe tbody tr th {\n",
       "        vertical-align: top;\n",
       "    }\n",
       "\n",
       "    .dataframe thead th {\n",
       "        text-align: right;\n",
       "    }\n",
       "</style>\n",
       "<table border=\"1\" class=\"dataframe\">\n",
       "  <thead>\n",
       "    <tr style=\"text-align: right;\">\n",
       "      <th></th>\n",
       "      <th>year</th>\n",
       "      <th>Unemployment</th>\n",
       "      <th>gdp_growth</th>\n",
       "    </tr>\n",
       "  </thead>\n",
       "  <tbody>\n",
       "    <tr>\n",
       "      <th>year</th>\n",
       "      <td>1.000000</td>\n",
       "      <td>-0.061112</td>\n",
       "      <td>-0.473330</td>\n",
       "    </tr>\n",
       "    <tr>\n",
       "      <th>Unemployment</th>\n",
       "      <td>-0.061112</td>\n",
       "      <td>1.000000</td>\n",
       "      <td>-0.700723</td>\n",
       "    </tr>\n",
       "    <tr>\n",
       "      <th>gdp_growth</th>\n",
       "      <td>-0.473330</td>\n",
       "      <td>-0.700723</td>\n",
       "      <td>1.000000</td>\n",
       "    </tr>\n",
       "  </tbody>\n",
       "</table>\n",
       "</div>"
      ],
      "text/plain": [
       "                  year  Unemployment  gdp_growth\n",
       "year          1.000000     -0.061112   -0.473330\n",
       "Unemployment -0.061112      1.000000   -0.700723\n",
       "gdp_growth   -0.473330     -0.700723    1.000000"
      ]
     },
     "execution_count": 13,
     "metadata": {},
     "output_type": "execute_result"
    }
   ],
   "source": [
    "mergeddata.corr(method='pearson')"
   ]
  },
  {
   "cell_type": "markdown",
   "metadata": {},
   "source": [
    "When calculating the correlation it is clear to see that there is a negative correlation between the growth in GDP and the change in the unemployment rate. The negative correlation isn't as large as stated Okuns law. An increase in the growth of GDP by 1 leads to a 0.70 fall in the change of unemployment."
   ]
  },
  {
   "cell_type": "code",
   "execution_count": null,
   "metadata": {},
   "outputs": [],
   "source": [
    "#Look at the years with increasing unemployment:"
   ]
  },
  {
   "cell_type": "code",
   "execution_count": 14,
   "metadata": {},
   "outputs": [
    {
     "data": {
      "text/html": [
       "<div>\n",
       "<style scoped>\n",
       "    .dataframe tbody tr th:only-of-type {\n",
       "        vertical-align: middle;\n",
       "    }\n",
       "\n",
       "    .dataframe tbody tr th {\n",
       "        vertical-align: top;\n",
       "    }\n",
       "\n",
       "    .dataframe thead th {\n",
       "        text-align: right;\n",
       "    }\n",
       "</style>\n",
       "<table border=\"1\" class=\"dataframe\">\n",
       "  <thead>\n",
       "    <tr style=\"text-align: right;\">\n",
       "      <th></th>\n",
       "      <th>year</th>\n",
       "      <th>Unemployment</th>\n",
       "      <th>country</th>\n",
       "      <th>gdp_growth</th>\n",
       "    </tr>\n",
       "  </thead>\n",
       "  <tbody>\n",
       "    <tr>\n",
       "      <th>0</th>\n",
       "      <td>1992</td>\n",
       "      <td>6.700001e-01</td>\n",
       "      <td>United States</td>\n",
       "      <td>3.555396</td>\n",
       "    </tr>\n",
       "    <tr>\n",
       "      <th>9</th>\n",
       "      <td>2001</td>\n",
       "      <td>7.400000e-01</td>\n",
       "      <td>United States</td>\n",
       "      <td>0.975982</td>\n",
       "    </tr>\n",
       "    <tr>\n",
       "      <th>10</th>\n",
       "      <td>2002</td>\n",
       "      <td>1.050000e+00</td>\n",
       "      <td>United States</td>\n",
       "      <td>1.786128</td>\n",
       "    </tr>\n",
       "    <tr>\n",
       "      <th>11</th>\n",
       "      <td>2003</td>\n",
       "      <td>2.099996e-01</td>\n",
       "      <td>United States</td>\n",
       "      <td>2.806776</td>\n",
       "    </tr>\n",
       "    <tr>\n",
       "      <th>15</th>\n",
       "      <td>2007</td>\n",
       "      <td>1.000000e-07</td>\n",
       "      <td>United States</td>\n",
       "      <td>1.778570</td>\n",
       "    </tr>\n",
       "  </tbody>\n",
       "</table>\n",
       "</div>"
      ],
      "text/plain": [
       "    year  Unemployment        country  gdp_growth\n",
       "0   1992  6.700001e-01  United States    3.555396\n",
       "9   2001  7.400000e-01  United States    0.975982\n",
       "10  2002  1.050000e+00  United States    1.786128\n",
       "11  2003  2.099996e-01  United States    2.806776\n",
       "15  2007  1.000000e-07  United States    1.778570"
      ]
     },
     "execution_count": 14,
     "metadata": {},
     "output_type": "execute_result"
    }
   ],
   "source": [
    "I = mergeddata['Unemployment'] > 0\n",
    "mergeddata.loc[I, :].head()"
   ]
  },
  {
   "cell_type": "markdown",
   "metadata": {},
   "source": [
    "However, when we see at the years with only increasing unemployment we see that in the same year there were a positive growth i GDP. So the relationship doesn't seem so clearcut as stated by Okun."
   ]
  },
  {
   "cell_type": "markdown",
   "metadata": {},
   "source": [
    "## 3. Plots"
   ]
  },
  {
   "cell_type": "code",
   "execution_count": null,
   "metadata": {},
   "outputs": [],
   "source": [
    "#Scatter plot"
   ]
  },
  {
   "cell_type": "code",
   "execution_count": 15,
   "metadata": {},
   "outputs": [
    {
     "data": {
      "text/plain": [
       "Text(0, 0.5, 'Unemployment')"
      ]
     },
     "execution_count": 15,
     "metadata": {},
     "output_type": "execute_result"
    },
    {
     "data": {
      "image/png": "[encoded data removed]",
      "text/plain": [
       "<Figure size 432x288 with 1 Axes>"
      ]
     },
     "metadata": {
      "needs_background": "light"
     },
     "output_type": "display_data"
    }
   ],
   "source": [
    "xy = mergeddata.plot(x = 'Unemployment', y = 'gdp_growth', kind = 'scatter') \n",
    "xy.set_xlabel('gdp_growth') \n",
    "xy.set_ylabel('Unemployment')"
   ]
  },
  {
   "cell_type": "markdown",
   "metadata": {},
   "source": [
    "One can see on the plot that there seems to be a negative relationship. However, there are some points where the change in unemployment rate is positive and so is the GDP growth."
   ]
  },
  {
   "cell_type": "code",
   "execution_count": null,
   "metadata": {},
   "outputs": [],
   "source": [
    "#Plot timeseries"
   ]
  },
  {
   "cell_type": "code",
   "execution_count": 16,
   "metadata": {},
   "outputs": [
    {
     "data": {
      "image/png": "[encoded data removed]",
      "text/plain": [
       "<Figure size 432x288 with 1 Axes>"
      ]
     },
     "metadata": {
      "needs_background": "light"
     },
     "output_type": "display_data"
    }
   ],
   "source": [
    "def plot(mergeddata):\n",
    "   mergeddata_indexed = mergeddata.set_index('year')\n",
    "   mergeddata_indexed.plot(legend=True)\n",
    "    \n",
    "plot(mergeddata)"
   ]
  },
  {
   "cell_type": "markdown",
   "metadata": {},
   "source": [
    "On the plot it generally seems that in most places there is an adverse correlation between the change in the unemployment rate and GDP growth. This seems strongest during the 2 recessions in the start 2000's and 2008. The relationship becomes less clear during the stable periods without recession."
   ]
  },
  {
   "cell_type": "code",
   "execution_count": null,
   "metadata": {},
   "outputs": [],
   "source": [
    "#Import packages:"
   ]
  },
  {
   "cell_type": "code",
   "execution_count": 17,
   "metadata": {},
   "outputs": [],
   "source": [
    "from numpy import arange,array,ones\n",
    "from scipy import stats"
   ]
  },
  {
   "cell_type": "code",
   "execution_count": null,
   "metadata": {},
   "outputs": [],
   "source": [
    "#Regression:"
   ]
  },
  {
   "cell_type": "code",
   "execution_count": 18,
   "metadata": {},
   "outputs": [],
   "source": [
    "x = mergeddata['Unemployment'] \n",
    "y = mergeddata['gdp_growth']"
   ]
  },
  {
   "cell_type": "code",
   "execution_count": null,
   "metadata": {},
   "outputs": [],
   "source": [
    "# Generated linear fit"
   ]
  },
  {
   "cell_type": "code",
   "execution_count": 19,
   "metadata": {},
   "outputs": [
    {
     "data": {
      "text/plain": [
       "Text(0.5, 0, 'Unemployment')"
      ]
     },
     "execution_count": 19,
     "metadata": {},
     "output_type": "execute_result"
    },
    {
     "data": {
      "image/png": "[encoded data removed]",
      "text/plain": [
       "<Figure size 432x288 with 1 Axes>"
      ]
     },
     "metadata": {
      "needs_background": "light"
     },
     "output_type": "display_data"
    }
   ],
   "source": [
    "slope, intercept, r_value, p_value, std_err = stats.linregress(x,y)\n",
    "line = slope*x+intercept\n",
    "\n",
    "plt.plot(x,y,'o', x, line)\n",
    "ax = plt.gca()\n",
    "fig = plt.gcf()\n",
    "ax.set_ylabel('gdp_growth') \n",
    "ax.set_xlabel('Unemployment')"
   ]
  },
  {
   "cell_type": "markdown",
   "metadata": {},
   "source": [
    "Making a linear fit based on the scatter plot before one sees a negative relationship but with many datapoints lying a bit away from the regression line."
   ]
  },
  {
   "cell_type": "code",
   "execution_count": null,
   "metadata": {},
   "outputs": [],
   "source": []
  }
 ],
 "metadata": {
  "kernelspec": {
   "display_name": "Python 3",
   "language": "python",
   "name": "python3"
  },
  "language_info": {
   "codemirror_mode": {
    "name": "ipython",
    "version": 3
   },
   "file_extension": ".py",
   "mimetype": "text/x-python",
   "name": "python",
   "nbconvert_exporter": "python",
   "pygments_lexer": "ipython3",
   "version": "3.7.1"
  }
 },
 "nbformat": 4,
 "nbformat_minor": 2
}
